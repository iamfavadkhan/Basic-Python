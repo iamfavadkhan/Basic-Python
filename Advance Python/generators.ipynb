{
 "cells": [
  {
   "cell_type": "code",
   "execution_count": 1,
   "id": "9b7db0f5",
   "metadata": {},
   "outputs": [
    {
     "name": "stdout",
     "output_type": "stream",
     "text": [
      "[0, 1, 4, 9, 16]\n"
     ]
    }
   ],
   "source": [
    "#Square without genertors\n",
    "def squares_list(n):\n",
    "    result = []\n",
    "    for i in range(n):\n",
    "        result.append(i ** 2)\n",
    "    return result\n",
    "\n",
    "print(squares_list(5))  # Uses memory to store all squares\n"
   ]
  },
  {
   "cell_type": "code",
   "execution_count": 5,
   "id": "aaadeb46",
   "metadata": {},
   "outputs": [
    {
     "name": "stdout",
     "output_type": "stream",
     "text": [
      "0\n",
      "1\n",
      "4\n",
      "9\n",
      "16\n"
     ]
    }
   ],
   "source": [
    "#square using generator\n",
    "def square(n):\n",
    "    for i in range(n):\n",
    "        yield i ** 2\n",
    "\n",
    "\n",
    "for sq in square(5):\n",
    "    print(sq)"
   ]
  },
  {
   "cell_type": "code",
   "execution_count": 8,
   "id": "b80ccccd",
   "metadata": {},
   "outputs": [
    {
     "data": {
      "text/plain": [
       "16"
      ]
     },
     "execution_count": 8,
     "metadata": {},
     "output_type": "execute_result"
    }
   ],
   "source": [
    "#list like function but instead of square bracket it uses paranthesis\n",
    "squar_lst = (x**2 for x in range(5))\n",
    "\n",
    "next(squar_lst)\n",
    "next(squar_lst)\n",
    "next(squar_lst)\n",
    "next(squar_lst)\n",
    "next(squar_lst)\n"
   ]
  },
  {
   "cell_type": "code",
   "execution_count": 9,
   "id": "dd599fd2",
   "metadata": {},
   "outputs": [
    {
     "name": "stdout",
     "output_type": "stream",
     "text": [
      "Shall I liken thy grace to the morningâ€™s light?\n",
      "Thou art more gentle, steadfast, pure, and fair;\n",
      "No cloud nor tempest dares obscure thy sight,\n",
      "Nor winterâ€™s frost can chill the warmth thou bear.\n",
      "\n",
      "When summer wanes and blooms to dust do turn,\n",
      "Thy radiance lingers, constant as the star;\n",
      "No time can dim the fire that in thee burn,\n",
      "Nor distance mar the truth of what thou are.\n",
      "\n",
      "Thus in these lines thy beauty shall reside,\n",
      "Beyond the reach of ageâ€™s slow decay;\n",
      "And whosoeâ€™er in future days shall bide,\n",
      "Shall find thy spirit fresh as dawning day.\n",
      "\n",
      "So long as ink may flow and voices sing,\n",
      "So long shall I thy endless praises bring.\n"
     ]
    }
   ],
   "source": [
    "#Real world uses Large files using without storing in memory\n",
    "def read_large_file(file_name):\n",
    "    with open(file_name, \"r\") as file:\n",
    "        for line in file:\n",
    "            yield line.strip()\n",
    "\n",
    "for line in read_large_file(\"large-file.txt\"):\n",
    "    print(line)\n"
   ]
  },
  {
   "cell_type": "code",
   "execution_count": null,
   "id": "9c52a087",
   "metadata": {},
   "outputs": [],
   "source": []
  }
 ],
 "metadata": {
  "kernelspec": {
   "display_name": "Python 3",
   "language": "python",
   "name": "python3"
  },
  "language_info": {
   "codemirror_mode": {
    "name": "ipython",
    "version": 3
   },
   "file_extension": ".py",
   "mimetype": "text/x-python",
   "name": "python",
   "nbconvert_exporter": "python",
   "pygments_lexer": "ipython3",
   "version": "3.13.6"
  }
 },
 "nbformat": 4,
 "nbformat_minor": 5
}
