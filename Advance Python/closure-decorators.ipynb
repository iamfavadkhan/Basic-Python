{
 "cells": [
  {
   "cell_type": "markdown",
   "id": "1015e09e",
   "metadata": {},
   "source": [
    "###Closure function\n",
    "a function within a function that remember tha the from the enclosing scope even the \n",
    "scope of the fucntion has finished"
   ]
  },
  {
   "cell_type": "code",
   "execution_count": 20,
   "id": "1ee85b24",
   "metadata": {},
   "outputs": [],
   "source": [
    "def main_function(func , msge):\n",
    "    def sub_main_function():\n",
    "        print(\"Welcome everyone!\")\n",
    "        func(msge)\n",
    "        print(\"Hey this is advance python course\")\n",
    "    return sub_main_function"
   ]
  },
  {
   "cell_type": "code",
   "execution_count": 21,
   "id": "a496125d",
   "metadata": {},
   "outputs": [
    {
     "name": "stdout",
     "output_type": "stream",
     "text": [
      "Welcome everyone!\n",
      "hello please give attension\n",
      "Hey this is advance python course\n"
     ]
    }
   ],
   "source": [
    "greet = main_function(print , \"hello please give attension\")\n",
    "greet()"
   ]
  },
  {
   "cell_type": "code",
   "execution_count": 22,
   "id": "6cfdfdc4",
   "metadata": {},
   "outputs": [],
   "source": [
    "##decorators\n",
    "def function1(message):\n",
    "    def function2():\n",
    "        print(\"Hello this function 2\")\n",
    "        print(\"Hello this function 1 in 2\" , message)\n",
    "        print(\"Hello this function 2\")\n",
    "    return function2\n"
   ]
  },
  {
   "cell_type": "code",
   "execution_count": 23,
   "id": "576b3b83",
   "metadata": {},
   "outputs": [
    {
     "name": "stdout",
     "output_type": "stream",
     "text": [
      "Hello this function 2\n",
      "Hello this function 1 in 2 <function function1.<locals>.function2 at 0x00000149B98DF1A0>\n",
      "Hello this function 2\n"
     ]
    }
   ],
   "source": [
    "\n",
    "@function1\n",
    "def function3():\n",
    "    print(\"Hello how is it going\")\n",
    "\n",
    "call_all_function = function1(function3)\n",
    "call_all_function()"
   ]
  },
  {
   "cell_type": "code",
   "execution_count": null,
   "id": "44505331",
   "metadata": {},
   "outputs": [],
   "source": []
  }
 ],
 "metadata": {
  "kernelspec": {
   "display_name": "Python 3",
   "language": "python",
   "name": "python3"
  },
  "language_info": {
   "codemirror_mode": {
    "name": "ipython",
    "version": 3
   },
   "file_extension": ".py",
   "mimetype": "text/x-python",
   "name": "python",
   "nbconvert_exporter": "python",
   "pygments_lexer": "ipython3",
   "version": "3.13.6"
  }
 },
 "nbformat": 4,
 "nbformat_minor": 5
}
