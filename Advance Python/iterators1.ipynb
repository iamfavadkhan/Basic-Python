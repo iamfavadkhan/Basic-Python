{
 "cells": [
  {
   "cell_type": "code",
   "execution_count": 1,
   "id": "cf110e78",
   "metadata": {},
   "outputs": [],
   "source": [
    "# 1.Iterators\n",
    "# Task\tWhat to Use\n",
    "# Create a custom iterator ReverseRange(start, end) that iterates numbers in reverse order.\n",
    "# Class with __iter__() and __next__()\n",
    "# Make an iterator that returns only even numbers from a given list.\tClass\n",
    "# Implement a Countdown(n) iterator that counts down from n to 1 and then stops.\tClass\n",
    "# Write an iterator that cycles through a list infinitely (like itertools.cycle).\tClass"
   ]
  },
  {
   "cell_type": "code",
   "execution_count": 2,
   "id": "d5e566b8",
   "metadata": {},
   "outputs": [
    {
     "name": "stdout",
     "output_type": "stream",
     "text": [
      "5\n",
      "4\n",
      "3\n",
      "2\n",
      "1\n"
     ]
    }
   ],
   "source": [
    "class Countdown:\n",
    "    def __init__(self, start):\n",
    "        self.start = start\n",
    "        \n",
    "    def __iter__(self):\n",
    "        self.n = self.start\n",
    "        return self\n",
    "    \n",
    "    def __next__(self):\n",
    "        if self.n < 1:\n",
    "            raise StopIteration\n",
    "        current = self.n\n",
    "        self.n -= 1\n",
    "        return current\n",
    "        \n",
    "countdown = Countdown(5)\n",
    "it = iter(countdown)\n",
    "it = next(it)\n",
    "\n",
    "for num in countdown:\n",
    "    print(num)\n"
   ]
  },
  {
   "cell_type": "code",
   "execution_count": 4,
   "id": "ab32dca9",
   "metadata": {},
   "outputs": [
    {
     "name": "stdout",
     "output_type": "stream",
     "text": [
      "2\n",
      "4\n",
      "6\n",
      "8\n",
      "10\n",
      "12\n",
      "14\n",
      "16\n",
      "18\n",
      "20\n"
     ]
    }
   ],
   "source": [
    "#with iterators print only even numbers \n",
    "class Even_numbers:\n",
    "    def __init__(self, start , end):\n",
    "        self.start = start \n",
    "        self.end = end\n",
    "        \n",
    "    def __iter__(self):\n",
    "        self.n = self.start\n",
    "        return self\n",
    "        \n",
    "    def __next__(self):\n",
    "        while self.n <= self.end:\n",
    "            current = self.n\n",
    "            self.n += 1\n",
    "            if current % 2 == 0:\n",
    "                return current\n",
    "        raise StopIteration\n",
    "            \n",
    "\n",
    "        \n",
    "        \n",
    "even_numbers = Even_numbers(2 , 20)\n",
    "\n",
    "for even in even_numbers:\n",
    "    print(even)\n"
   ]
  },
  {
   "cell_type": "code",
   "execution_count": null,
   "id": "6c11d2a4",
   "metadata": {},
   "outputs": [],
   "source": [
    "#with iterators reverse a string\n",
    "class Reverse_str:\n",
    "    def __init__(self , word):\n",
    "        self.word = word\n",
    "    \n",
    "    def __iter__(self):\n",
    "        self.index = len(self.word) - 1\n",
    "        return self"
   ]
  }
 ],
 "metadata": {
  "kernelspec": {
   "display_name": "Python 3",
   "language": "python",
   "name": "python3"
  },
  "language_info": {
   "codemirror_mode": {
    "name": "ipython",
    "version": 3
   },
   "file_extension": ".py",
   "mimetype": "text/x-python",
   "name": "python",
   "nbconvert_exporter": "python",
   "pygments_lexer": "ipython3",
   "version": "3.13.6"
  }
 },
 "nbformat": 4,
 "nbformat_minor": 5
}
